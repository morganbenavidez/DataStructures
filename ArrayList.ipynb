{
  "cells": [
    {
      "metadata": {
        "state": "normal"
      },
      "cell_type": "markdown",
      "source": "# Lab 04: Array-Backed Lists"
    },
    {
      "metadata": {
        "state": "normal"
      },
      "cell_type": "markdown",
      "source": "## Overview\n\nFor this assignment you will complete the implementation of the array-backed list data structure (`ArrayList`) started during class, so that it supports (nearly) all the [common](https://docs.python.org/3.5/library/stdtypes.html#common-sequence-operations) and [mutable](https://docs.python.org/3.5/library/stdtypes.html#mutable-sequence-types) sequence operations."
    },
    {
      "metadata": {
        "state": "normal"
      },
      "cell_type": "markdown",
      "source": "## Implementation Details\n\nFor the `ArrayList`'s underlying data storage mechanism you will use the built-in Python list, constrained so that only the following operations (as would be supported by a primitive array) are available:\n\n- `lst[i]` for getting and setting a value at an *existing, positive* index `i`\n- `len(lst)` to obtain the number of slots\n- `lst.append(None)` to grow the list by *one slot at a time*\n- `del lst[len(lst)-1]` to delete the last slot in a list\n\n### `ConstrainedList`\n\nTo help keep us honest, we've defined an API-constrained sub-class of the built-in list -- `ConstrainedList` -- an instance of which is assigned to the `data` attribute of each `ArrayList`. You should not change the definition of `ConstrainedList`, and ensure that your `ArrayList` implementation never assigns a regular Python list to its `data` attribute. So long as you use `ConstrainedList` in your implementation, you can be certain you're not performing any \"illegal\" operations (i.e., outside the constraints established above). If you invoke a disallowed operation, an appropriate exception will be raised.\n\nBe sure to evaluate the following cell before testing your `ArrayList` implementation."
    },
    {
      "metadata": {
        "deletable": false,
        "editable": false,
        "id": "constrained_list",
        "nbgrader": {
          "grade": false,
          "grade_id": "constrained_list",
          "locked": true,
          "schema_version": 1,
          "solution": false
        },
        "state": "read_only",
        "trusted": true
      },
      "cell_type": "code",
      "source": "class ConstrainedList (list):\n    \"\"\"Constrains the list class so it offers only the following primitive array API:\n    \n        - `lst[i]` for getting and setting a value at an *existing, positive* index `i`\n        - `len(lst)` to obtain the number of slots\n        - `lst.append(None)` to grow the list by *one slot at a time*\n        - `del lst[len(lst)-1]` to delete the last slot in a list\n        \n       All other operations will result in an exception being raised.\n    \"\"\"\n    \n    def __init__(self, *args):\n        super().__init__(*args)\n    \n    def append(self, value):\n        if value is not None:\n            raise ValueError('Can only append None to constrained list!')\n        super().append(value)\n        \n    def __getitem__(self, idx):\n        if idx < 0 or idx >= len(self):\n            raise ValueError('Can only use positive, valid indexes on constrained lists!')\n        return super().__getitem__(idx)\n\n    def __setitem__(self, idx, value):\n        if idx < 0 or idx >= len(self):\n            raise ValueError('Can only use positive, valid indexes on constrained lists!')\n        super().__setitem__(idx, value)\n\n    def __delitem__(self, idx):\n        if idx != len(self)-1:\n            raise ValueError('Can only delete last item in constrained list!')\n        super().__delitem__(idx)\n        \n    def __getattribute__(self, name):\n        if name in ('insert', 'pop', 'remove', 'min', 'max', \n                    'index', 'count', 'clear', 'copy', 'extend'):\n            raise AttributeError('Method \"' + name + '\" not supported on constrained list!')\n        else:\n            return super().__getattribute__(name)\n    \n    # __getattribute__ isn't called for special methods, so the following are needed\n\n    def __add__(self, value):\n        raise AttributeError('Constrained lists do not support `+`!')\n\n    def __contains__(self, value):\n        raise AttributeError('Constrained lists do not support `in`!')\n        \n    def __eq__(self, value):\n        raise AttributeError('Constrained lists do not support `==`!')        \n    \n    def __iter__(self):\n        raise AttributeError('Constrained lists do not support iteration!')\n    \n    def __str__(self):\n        raise AttributeError('Constrained lists do not support stringification!')\n    \n    def __repr__(self):\n        raise AttributeError('Constrained lists do not support stringification!')\n        \n    # for testing only! (don't use this in your ArrayList implementation)\n    \n    def _as_list(self):\n        return list(super().__iter__())",
      "execution_count": 49,
      "outputs": []
    },
    {
      "metadata": {
        "state": "normal"
      },
      "cell_type": "markdown",
      "source": "### `ArrayList`\n\nAnd now for the task at hand. We've partitioned the `ArrayList` methods you need to implement (and the test cases that follow) into seven categories:\n\n1. Subscript-based access (completed in class)\n2. Stringification\n3. Single-element manipulation\n4. Predicates (True/False queries)\n5. Queries\n6. Bulk operations\n7. Iteration\n\nAll told, there are 23 methods --- a handful of which have already been implemented for you --- whose behavior are specified in their docstrings below. Note that we left out API support for *slices* (e.g., `lst[start:stop:step]`); you can read about [how to support slices in the Python docs](https://docs.python.org/3.5/reference/datamodel.html#object.__length_hint__), but we just don't think it's worth the extra busywork.\n\n\n### Hints / Advice\n\nWe strongly advise that you start with the first category of functions and move down the list sequentially, pausing after each to run the corresponding test cases. The only category that might be worth skipping to early on is *Iteration* --- which can help simplify several other methods. Keep in mind that while you're not permitted to make use of high level APIs in the underlying list, you can certainly make use of `ArrayList` methods you've already implemented.\n\nFor instance, your implementations of `pop` and `remove` can (and should) use the `del` operator on your own list to remove elements from the middle, and it probably makes sense to use `extend` in your `__add__` and `copy` methods."
    },
    {
      "metadata": {
        "deletable": false,
        "id": "arraylist",
        "nbgrader": {
          "grade": false,
          "grade_id": "arraylist",
          "locked": false,
          "schema_version": 1,
          "solution": true
        },
        "starter_code": "class ArrayList:\n    def __init__(self):\n        self.data = ConstrainedList() # don't change this line!\n\n    \n    ### subscript-based access ###\n    \n    def _normalize_idx(self, idx):\n        nidx = idx\n        if nidx < 0:\n            nidx += len(self.data)\n            if nidx < 0:\n                nidx = 0\n        return nidx\n    \n    def __getitem__(self, idx):\n        \"\"\"Implements `x = self[idx]`\"\"\"\n        assert(isinstance(idx, int))\n        nidx = self._normalize_idx(idx)\n        if nidx >= len(self.data):\n            raise IndexError\n        return self.data[nidx]\n\n    def __setitem__(self, idx, value):\n        \"\"\"Implements `self[idx] = x`\"\"\"\n        assert(isinstance(idx, int))\n        nidx = self._normalize_idx(idx)\n        if nidx >= len(self.data):\n            raise IndexError\n        self.data[nidx] = value\n\n    def __delitem__(self, idx):\n        \"\"\"Implements `del self[idx]`\"\"\"\n        assert(isinstance(idx, int))\n        nidx = self._normalize_idx(idx)\n        if nidx >= len(self.data):\n            raise IndexError\n        for i in range(nidx+1, len(self.data)):\n            self.data[i-1] = self.data[i]\n        del self.data[len(self.data)-1]\n    \n\n    ### stringification ###\n    \n    def __str__(self):\n        \"\"\"Implements `str(self)`. Returns '[]' if the list is empty, else\n        returns `str(x)` for all values `x` in this list, separated by commas\n        and enclosed by square brackets. E.g., for a list containing values\n        1, 2 and 3, returns '[1, 2, 3]'.\"\"\"\n        \n        \n    def __repr__(self):\n        \"\"\"Supports REPL inspection. (Same behavior as `str`.)\"\"\"\n            \n\n\n    ### single-element manipulation ###\n    \n    def append(self, value):\n        \"\"\"Appends value to the end of this list.\"\"\"\n        \n    \n    def insert(self, idx, value):\n        \"\"\"Inserts value at position idx, shifting the original elements down the\n        list, as needed. Note that inserting a value at len(self) --- equivalent\n        to appending the value --- is permitted. Raises IndexError if idx is invalid.\"\"\"\n        \n    \n    def pop(self, idx=-1):\n        \"\"\"Deletes and returns the element at idx (which is the last element,\n        by default).\"\"\"\n        \n    \n    def remove(self, value):\n        \"\"\"Removes the first (closest to the front) instance of value from the\n        list. Raises a ValueError if value is not found in the list.\"\"\"\n        \n    \n\n    ### predicates (T/F queries) ###\n    \n    def __eq__(self, other):\n        \"\"\"Returns True if this ArrayList contains the same elements (in order) as\n        other. If other is not an ArrayList, returns False.\"\"\"\n        \n\n    def __contains__(self, value):\n        \"\"\"Implements `val in self`. Returns true if value is found in this list.\"\"\"\n        \n\n\n    ### queries ###\n    \n    def __len__(self):\n        \"\"\"Implements `len(self)`\"\"\"\n        \n    \n    def min(self):\n        \"\"\"Returns the minimum value in this list.\"\"\"\n        \n    \n    def max(self):\n        \"\"\"Returns the maximum value in this list.\"\"\"\n        \n    \n    def index(self, value, i=0, j=None):\n        \"\"\"Returns the index of the first instance of value encountered in\n        this list between index i (inclusive) and j (exclusive). If j is not\n        specified, search through the end of the list for value. If value\n        is not in the list, raise a ValueError.\"\"\"\n        \n    \n    def count(self, value):\n        \"\"\"Returns the number of times value appears in this list.\"\"\"\n        \n\n    \n    ### bulk operations ###\n\n    def __add__(self, other):\n        \"\"\"Implements `self + other_array_list`. Returns a new ArrayList\n        instance that contains the values in this list followed by those \n        of other.\"\"\"\n        \n    \n    def clear(self):\n        self.data = ConstrainedList() # don't change this!\n        \n    def copy(self):\n        \"\"\"Returns a new ArrayList instance (with a separate data store), that\n        contains the same values as this list.\"\"\"\n        \n\n    def extend(self, other):\n        \"\"\"Adds all elements, in order, from other --- an Iterable --- to this list.\"\"\"\n        \n\n            \n    ### iteration ###\n    \n    def __iter__(self):\n        \"\"\"Supports iteration (via `iter(self)`)\"\"\"\n        ",
        "state": "graded",
        "trusted": true
      },
      "cell_type": "code",
      "source": "class ArrayList:\n    def __init__(self):\n        self.data = ConstrainedList() # don't change this line!\n\n    \n    ### subscript-based access ###\n    \n    def _normalize_idx(self, idx):\n        nidx = idx\n        if nidx < 0:\n            nidx += len(self.data)\n            if nidx < 0:\n                nidx = 0\n        return nidx\n    \n    def __getitem__(self, idx):\n        \"\"\"Implements `x = self[idx]`\"\"\"\n        assert(isinstance(idx, int))\n        nidx = self._normalize_idx(idx)\n        if nidx >= len(self.data):\n            raise IndexError\n        return self.data[nidx]\n\n    def __setitem__(self, idx, value):\n        \"\"\"Implements `self[idx] = x`\"\"\"\n        assert(isinstance(idx, int))\n        nidx = self._normalize_idx(idx)\n        if nidx >= len(self.data):\n            raise IndexError\n        self.data[nidx] = value\n\n    def __delitem__(self, idx):\n        \"\"\"Implements `del self[idx]`\"\"\"\n        assert(isinstance(idx, int))\n        nidx = self._normalize_idx(idx)\n        if nidx >= len(self.data):\n            raise IndexError\n        for i in range(nidx+1, len(self.data)):\n            self.data[i-1] = self.data[i]\n        del self.data[len(self.data)-1]\n    \n\n    ### stringification ###\n    \n    def __str__(self):\n        \"\"\"Implements `str(self)`. Returns '[]' if the list is empty, else\n        returns `str(x)` for all values `x` in this list, separated by commas\n        and enclosed by square brackets. E.g., for a list containing values\n        1, 2 and 3, returns '[1, 2, 3]'.\"\"\"\n        result = '['\n        for i in range(0,len(self.data)):\n            if i == (len(self.data)-1):\n                result = result + str(self.data[i])\n                break\n            result = result + str(self.data[i]) + ', '\n            \n\n            \n        result = result + ']'\n        \n        return result\n        \n        \n        \n    def __repr__(self):\n        \"\"\"Supports REPL inspection. (Same behavior as `str`.)\"\"\"\n        result = '['\n        for i in range(0,len(self.data)):\n            if i == (len(self.data) - 1):\n                result = result + str(self.data[i])\n                break\n            result = result + str(self.data[i]) + ', '\n            \n\n            \n        result = result + ']'\n        \n        return result\n            \n\n\n    ### single-element manipulation ###\n    \n    def append(self, value):\n        \n        \n        \"\"\"Appends value to the end of this list.\"\"\"\n        self.data.append(None)\n        self.data[len(self.data)-1] = value\n        #a = self.data\n        \n        \n        \n    \n    def insert(self, idx, value):\n        \"\"\"Inserts value at position idx, shifting the original elements down the\n        list, as needed. Note that inserting a value at len(self) --- equivalent\n        to appending the value --- is permitted. Raises IndexError if idx is invalid.\"\"\"\n        #self.data[idx] = value\n        self.data.append(None)\n        for i in range((len(self.data)-1), idx, -1):\n            self.data[i] = self.data[i - 1]\n        self.data[idx] = value\n        \n    def pop(self, idx = -1):\n        \"\"\"Deletes and returns the element at idx (which is the last element,\n        by default).\"\"\"\n        a = self[idx]\n        del self[idx]\n        return a\n\n    def remove(self, value):\n\n        \"\"\"Removes the first (closest to the front) instance of value from the\n        list. Raises a ValueError if value is not found in the list.\"\"\"\n        \n\n        #i = self.data[]\n        \n        #while i != value:\n        #    \n        #    continue\n            \n         #   if i == value:\n         #       print(Blah)\n         #       break\n                \n        for i in range(len(self.data)):\n            if self[i] == value:\n                del self[i]\n                return\n\n        else:\n            raise ValueError\n                                     \n\n        \n\n    ### predicates (T/F queries) ###\n    \n    def __eq__(self, other):\n        \"\"\"Returns True if this ArrayList contains the same elements (in order) as\n        other. If other is not an ArrayList, returns False.\"\"\"\n        \n        x = isinstance(other, ArrayList)\n        y = len(self.data)\n        z = len(other)\n        \n        if not x:\n            return False\n        \n        if y != z:\n            return False\n        \n        \n        for i in range(0,len(self.data)):\n            if self[i] == other[i]:\n                continue\n            else:\n                return False\n        return True\n \n\n    def __contains__(self, value):\n        \"\"\"Implements `val in self`. Returns true if value is found in this list.\"\"\"\n        \n        for i in range(0, len(self.data)):\n            if self[i] == value:\n                return True\n            elif self[i] != value:\n                continue\n            else: \n                return False\n\n\n    ### queries ###\n    \n    def __len__(self):\n        \"\"\"Implements `len(self)`\"\"\"\n        \n        \n        return len(self.data)\n        \n        #i = 0\n        #counter = 0\n        #\n        #while i <= len(self.data)\n            \n        #    i +=\n        \n        #counter = 0\n        \n        #for i in range(0,len(self.data)):\n        #    counter += 1\n        #return counter\n        \n    \n    def min(self):\n        \"\"\"Returns the minimum value in this list.\"\"\"\n        minimum = self[0]\n        \n        for i in range(1, len(self.data)):\n            if self[i] < minimum:\n            #if self[i + 1] < self[i]:\n                minimum = self[i]\n            else:\n                continue\n        return minimum\n        \n        #self.sort()\n        #a = self[0]\n        #return a\n        \n    \n    def max(self):\n        \"\"\"Returns the maximum value in this list.\"\"\"\n        maximum = self[0]\n        \n        for i in range(1, len(self.data)):\n            if self[i] > maximum:\n                maximum = self[i]\n        return maximum\n        \n    \n    def index(self, value, i=0, j=None):\n        \"\"\"Returns the index of the first instance of value encountered in\n        this list between index i (inclusive) and j (exclusive). If j is not\n        specified, search through the end of the list for value. If value\n        is not in the list, raise a ValueError.\"\"\"\n        \n        \n        if j == None:\n\n            for it in range(i, len(self.data)):\n                if self[it] == value:\n                    return it\n                elif self[i] != value:\n                    continue\n            else: \n                raise ValueError\n\n        else:\n            \n            j = self._normalize_idx(j)\n            for it in range(i, j):\n                if self[it] == value:\n                    return it\n                elif self[i] != value:\n                    continue\n            else: \n                raise ValueError\n\n    \n    def count(self, value):\n        \"\"\"Returns the number of times value appears in this list.\"\"\"\n        \n        counter = 0\n        \n        for i in range(0,(len(self.data))):\n            if self[i] == value:\n                counter += 1\n                continue\n            else:\n                continue\n        return counter\n        \n        \n\n    \n    ### bulk operations ###\n\n    def __add__(self, other):\n        \"\"\"Implements `self + other_array_list`. Returns a new ArrayList\n        instance that contains the values in this list followed by those \n        of other.\"\"\"\n        newList = ArrayList()\n        \n        \n        for i in range(0, len(self)):\n            newList.append(self[i])\n        for j in range(0, len(other)):\n            newList.append(other[j])\n        return newList\n            \n        \n    \n    def clear(self):\n        self.data = ConstrainedList() # don't change this!\n        \n    def copy(self):\n        \"\"\"Returns a new ArrayList instance (with a separate data store), that\n        contains the same values as this list.\"\"\"\n        newList = ArrayList()\n        \n        for i in range(0, len(self)):\n            newList.append(self[i])\n        return newList\n\n    def extend(self, other):\n        \"\"\"Adds all elements, in order, from other --- an Iterable --- to this list.\"\"\"\n        \n        for i in range(0, len(other)):\n            self.append(other[i])\n            \n\n            \n    ### iteration ###\n    \n    def __iter__(self):\n        \"\"\"Supports iteration (via `iter(self)`)\"\"\"\n        Iterator = iter(self)\n        \n        for i in range(0, len(self)):\n            print(Iterator)\n        \n        ",
      "execution_count": 82,
      "outputs": []
    },
    {
      "metadata": {
        "deletable": false,
        "editable": false,
        "id": "subscript",
        "nbgrader": {
          "grade": true,
          "grade_id": "subscript",
          "locked": true,
          "points": 6,
          "schema_version": 1,
          "solution": false
        },
        "state": "read_only",
        "trusted": true
      },
      "cell_type": "code",
      "source": "# (6 points) test subscript-based access\n\nfrom unittest import TestCase\nimport random\n\ntc = TestCase()\nlst = ArrayList()\ndata = [1, 2, 3, 4]\nlst.data = ConstrainedList(data)\n\nfor i in range(len(data)):\n    tc.assertEqual(lst[i], data[i])\n    \nwith tc.assertRaises(IndexError):\n    x = lst[100]\n\nwith tc.assertRaises(IndexError):\n    lst[100] = 0\n\nwith tc.assertRaises(IndexError):\n    del lst[100]\n\nlst[1] = data[1] = 20\ndel data[0]\ndel lst[0]\n\nfor i in range(len(data)):\n    tc.assertEqual(lst[i], data[i])\n\ndata = [random.randint(1, 100) for _ in range(100)]\nlst.data = ConstrainedList(data)\nfor i in range(len(data)):\n    lst[i] = data[i] = random.randint(101, 200)\nfor i in range(50):\n    to_del = random.randrange(len(data))\n    del lst[to_del]\n    del data[to_del]\n\nfor i in range(len(data)):\n    tc.assertEqual(lst[i], data[i])\n    \nfor i in range(0, -len(data), -1):\n    tc.assertEqual(lst[i], data[i])",
      "execution_count": 83,
      "outputs": []
    },
    {
      "metadata": {
        "deletable": false,
        "editable": false,
        "id": "stringification",
        "nbgrader": {
          "grade": true,
          "grade_id": "stringification",
          "locked": true,
          "points": 4,
          "schema_version": 1,
          "solution": false
        },
        "state": "read_only",
        "trusted": true
      },
      "cell_type": "code",
      "source": "# (4 points) test stringification\n\nfrom unittest import TestCase\ntc = TestCase()\n\nlst = ArrayList()\ntc.assertIsInstance(lst.data, ConstrainedList)\ntc.assertEqual('[]', str(lst))\ntc.assertEqual('[]', repr(lst))\n\nlst.data = ConstrainedList([1])\ntc.assertEqual('[1]', str(lst))\ntc.assertEqual('[1]', repr(lst))\n\nlst.data = ConstrainedList([10, 20, 30, 40, 50])\ntc.assertEqual('[10, 20, 30, 40, 50]', str(lst))\ntc.assertEqual('[10, 20, 30, 40, 50]', repr(lst))",
      "execution_count": 84,
      "outputs": []
    },
    {
      "metadata": {
        "deletable": false,
        "editable": false,
        "id": "single_element",
        "nbgrader": {
          "grade": true,
          "grade_id": "single_element",
          "locked": true,
          "points": 8,
          "schema_version": 1,
          "solution": false
        },
        "state": "read_only",
        "trusted": true
      },
      "cell_type": "code",
      "source": "# (8 points) test single-element manipulation\n\nfrom unittest import TestCase\nimport random\n\ntc = TestCase()\nlst = ArrayList()\ndata = []\n\nfor _ in range(100):\n    to_add = random.randrange(1000)\n    data.append(to_add)\n    lst.append(to_add)\n\ntc.assertIsInstance(lst.data, ConstrainedList)\ntc.assertEqual(data, lst.data._as_list())\n\nfor _ in range(100):\n    to_ins = random.randrange(1000)\n    ins_idx = random.randrange(len(data)+1)\n    data.insert(ins_idx, to_ins)\n    lst.insert(ins_idx, to_ins)\n\ntc.assertEqual(data, lst.data._as_list())\n\nfor _ in range(100):\n    pop_idx = random.randrange(len(data))\n    tc.assertEqual(data.pop(pop_idx), lst.pop(pop_idx))\n    \ntc.assertEqual(data, lst.data._as_list())\n\nfor _ in range(25):\n    to_rem = data[random.randrange(len(data))]\n    data.remove(to_rem)\n    lst.remove(to_rem)\n    \ntc.assertEqual(data, lst.data._as_list())\n\nwith tc.assertRaises(ValueError):\n    lst.remove(9999)",
      "execution_count": 85,
      "outputs": []
    },
    {
      "metadata": {
        "deletable": false,
        "editable": false,
        "id": "predicates",
        "nbgrader": {
          "grade": true,
          "grade_id": "predicates",
          "locked": true,
          "points": 4,
          "schema_version": 1,
          "solution": false
        },
        "state": "read_only",
        "trusted": true
      },
      "cell_type": "code",
      "source": "# (4 points) test predicates\n\nfrom unittest import TestCase\ntc = TestCase()\nlst = ArrayList()\nlst2 = ArrayList()\n\nlst.data = ConstrainedList([])\nlst2.data = ConstrainedList([1, 2, 3])\ntc.assertNotEqual(lst, lst2)\n\nlst.data = ConstrainedList([1, 2, 3])\ntc.assertEqual(lst, lst2)\n\nlst.data = ConstrainedList([])\ntc.assertFalse(1 in lst)\ntc.assertFalse(None in lst)\n\nlst.data = ConstrainedList(range(100))\ntc.assertFalse(100 in lst)\ntc.assertTrue(50 in lst)",
      "execution_count": 86,
      "outputs": []
    },
    {
      "metadata": {
        "deletable": false,
        "editable": false,
        "id": "queries",
        "nbgrader": {
          "grade": true,
          "grade_id": "queries",
          "locked": true,
          "points": 10,
          "schema_version": 1,
          "solution": false
        },
        "state": "read_only",
        "trusted": true
      },
      "cell_type": "code",
      "source": "# (10 points) test queries\n\nfrom unittest import TestCase\ntc = TestCase()\nlst = ArrayList()\n\ntc.assertEqual(0, len(lst))\ntc.assertEqual(0, lst.count(1))\nwith tc.assertRaises(ValueError):\n    lst.index(1)\n\nimport random\ndata = [random.randrange(1000) for _ in range(100)]\nlst.data = ConstrainedList(data)\n\ntc.assertEqual(100, len(lst))\ntc.assertEqual(min(data), lst.min())\ntc.assertEqual(max(data), lst.max())\nfor x in data:    \n    tc.assertEqual(data.index(x), lst.index(x))\n    tc.assertEqual(data.count(x), lst.count(x))\n\nwith tc.assertRaises(ValueError):\n    lst.index(1000)\n    \nlst.data = ConstrainedList([1, 2, 1, 2, 1, 1, 1, 2, 1])\ntc.assertEqual(1, lst.index(2))\ntc.assertEqual(1, lst.index(2, 1))\ntc.assertEqual(3, lst.index(2, 2))\ntc.assertEqual(7, lst.index(2, 4))\ntc.assertEqual(7, lst.index(2, 4, -1))\nwith tc.assertRaises(ValueError):\n    lst.index(2, 4, -2)",
      "execution_count": 87,
      "outputs": []
    },
    {
      "metadata": {
        "deletable": false,
        "editable": false,
        "id": "bulk",
        "nbgrader": {
          "grade": true,
          "grade_id": "bulk",
          "locked": true,
          "points": 6,
          "schema_version": 1,
          "solution": false
        },
        "state": "read_only",
        "trusted": true
      },
      "cell_type": "code",
      "source": "# (6 points) test bulk operations\n\nfrom unittest import TestCase\ntc = TestCase()\nlst = ArrayList()\nlst2 = ArrayList()\nlst3 = lst+lst2\n\ntc.assertIsInstance(lst3, ArrayList)\ntc.assertEqual([], lst3.data._as_list())\n\nimport random\ndata  = [random.randrange(1000) for _ in range(50)]\ndata2 = [random.randrange(1000) for _ in range(50)]\nlst.data = ConstrainedList(data)\nlst2.data = ConstrainedList(data2)\nlst3 = lst + lst2\ntc.assertEqual(100, len(lst3))\ntc.assertEqual(data + data2, lst3.data._as_list())\n\nlst.clear()\ntc.assertEqual([], lst.data._as_list())\n\nlst.data = ConstrainedList([random.randrange(1000) for _ in range(50)])\nlst2 = lst.copy()\ntc.assertIsNot(lst, lst2)\ntc.assertIsNot(lst.data, lst2.data)\ntc.assertEqual(lst.data._as_list(), lst2.data._as_list())\n\nlst.clear()\nlst.extend(range(10))\nlst.extend(range(10,0,-1))\nlst.extend(data.copy())\ntc.assertEqual(70, len(lst))\ntc.assertEqual(list(range(10))+list(range(10,0,-1))+data, lst.data._as_list())",
      "execution_count": 88,
      "outputs": []
    },
    {
      "metadata": {
        "deletable": false,
        "editable": false,
        "id": "iteration",
        "nbgrader": {
          "grade": true,
          "grade_id": "iteration",
          "locked": true,
          "points": 2,
          "schema_version": 1,
          "solution": false
        },
        "state": "read_only",
        "trusted": true
      },
      "cell_type": "code",
      "source": "# (2 points) test iteration\n\nfrom unittest import TestCase\ntc = TestCase()\nlst = ArrayList()\n\nimport random\ndata = [random.randrange(1000) for _ in range(100)]\nlst.data = ConstrainedList(data)\ntc.assertEqual(data, [x for x in lst])\n\nit1 = iter(lst)\nit2 = iter(lst)\nfor x in data:\n    tc.assertEqual(next(it1), x)\n    tc.assertEqual(next(it2), x)",
      "execution_count": 89,
      "outputs": [
        {
          "output_type": "error",
          "ename": "RecursionError",
          "evalue": "maximum recursion depth exceeded while calling a Python object",
          "traceback": [
            "\u001b[0;31m---------------------------------------------------------------------------\u001b[0m",
            "\u001b[0;31mRecursionError\u001b[0m                            Traceback (most recent call last)",
            "\u001b[0;32m<ipython-input-89-dc8dc4152556>\u001b[0m in \u001b[0;36m<module>\u001b[0;34m\u001b[0m\n\u001b[1;32m      8\u001b[0m \u001b[0mdata\u001b[0m \u001b[0;34m=\u001b[0m \u001b[0;34m[\u001b[0m\u001b[0mrandom\u001b[0m\u001b[0;34m.\u001b[0m\u001b[0mrandrange\u001b[0m\u001b[0;34m(\u001b[0m\u001b[0;36m1000\u001b[0m\u001b[0;34m)\u001b[0m \u001b[0;32mfor\u001b[0m \u001b[0m_\u001b[0m \u001b[0;32min\u001b[0m \u001b[0mrange\u001b[0m\u001b[0;34m(\u001b[0m\u001b[0;36m100\u001b[0m\u001b[0;34m)\u001b[0m\u001b[0;34m]\u001b[0m\u001b[0;34m\u001b[0m\u001b[0;34m\u001b[0m\u001b[0m\n\u001b[1;32m      9\u001b[0m \u001b[0mlst\u001b[0m\u001b[0;34m.\u001b[0m\u001b[0mdata\u001b[0m \u001b[0;34m=\u001b[0m \u001b[0mConstrainedList\u001b[0m\u001b[0;34m(\u001b[0m\u001b[0mdata\u001b[0m\u001b[0;34m)\u001b[0m\u001b[0;34m\u001b[0m\u001b[0;34m\u001b[0m\u001b[0m\n\u001b[0;32m---> 10\u001b[0;31m \u001b[0mtc\u001b[0m\u001b[0;34m.\u001b[0m\u001b[0massertEqual\u001b[0m\u001b[0;34m(\u001b[0m\u001b[0mdata\u001b[0m\u001b[0;34m,\u001b[0m \u001b[0;34m[\u001b[0m\u001b[0mx\u001b[0m \u001b[0;32mfor\u001b[0m \u001b[0mx\u001b[0m \u001b[0;32min\u001b[0m \u001b[0mlst\u001b[0m\u001b[0;34m]\u001b[0m\u001b[0;34m)\u001b[0m\u001b[0;34m\u001b[0m\u001b[0;34m\u001b[0m\u001b[0m\n\u001b[0m\u001b[1;32m     11\u001b[0m \u001b[0;34m\u001b[0m\u001b[0m\n\u001b[1;32m     12\u001b[0m \u001b[0mit1\u001b[0m \u001b[0;34m=\u001b[0m \u001b[0miter\u001b[0m\u001b[0;34m(\u001b[0m\u001b[0mlst\u001b[0m\u001b[0;34m)\u001b[0m\u001b[0;34m\u001b[0m\u001b[0;34m\u001b[0m\u001b[0m\n",
            "\u001b[0;32m<ipython-input-82-266f1f50de58>\u001b[0m in \u001b[0;36m__iter__\u001b[0;34m(self)\u001b[0m\n\u001b[1;32m    309\u001b[0m     \u001b[0;32mdef\u001b[0m \u001b[0m__iter__\u001b[0m\u001b[0;34m(\u001b[0m\u001b[0mself\u001b[0m\u001b[0;34m)\u001b[0m\u001b[0;34m:\u001b[0m\u001b[0;34m\u001b[0m\u001b[0;34m\u001b[0m\u001b[0m\n\u001b[1;32m    310\u001b[0m         \u001b[0;34m\"\"\"Supports iteration (via `iter(self)`)\"\"\"\u001b[0m\u001b[0;34m\u001b[0m\u001b[0;34m\u001b[0m\u001b[0m\n\u001b[0;32m--> 311\u001b[0;31m         \u001b[0mIterator\u001b[0m \u001b[0;34m=\u001b[0m \u001b[0miter\u001b[0m\u001b[0;34m(\u001b[0m\u001b[0mself\u001b[0m\u001b[0;34m)\u001b[0m\u001b[0;34m\u001b[0m\u001b[0;34m\u001b[0m\u001b[0m\n\u001b[0m\u001b[1;32m    312\u001b[0m \u001b[0;34m\u001b[0m\u001b[0m\n\u001b[1;32m    313\u001b[0m         \u001b[0;32mfor\u001b[0m \u001b[0mi\u001b[0m \u001b[0;32min\u001b[0m \u001b[0mrange\u001b[0m\u001b[0;34m(\u001b[0m\u001b[0;36m0\u001b[0m\u001b[0;34m,\u001b[0m \u001b[0mlen\u001b[0m\u001b[0;34m(\u001b[0m\u001b[0mself\u001b[0m\u001b[0;34m)\u001b[0m\u001b[0;34m)\u001b[0m\u001b[0;34m:\u001b[0m\u001b[0;34m\u001b[0m\u001b[0;34m\u001b[0m\u001b[0m\n",
            "... last 1 frames repeated, from the frame below ...\n",
            "\u001b[0;32m<ipython-input-82-266f1f50de58>\u001b[0m in \u001b[0;36m__iter__\u001b[0;34m(self)\u001b[0m\n\u001b[1;32m    309\u001b[0m     \u001b[0;32mdef\u001b[0m \u001b[0m__iter__\u001b[0m\u001b[0;34m(\u001b[0m\u001b[0mself\u001b[0m\u001b[0;34m)\u001b[0m\u001b[0;34m:\u001b[0m\u001b[0;34m\u001b[0m\u001b[0;34m\u001b[0m\u001b[0m\n\u001b[1;32m    310\u001b[0m         \u001b[0;34m\"\"\"Supports iteration (via `iter(self)`)\"\"\"\u001b[0m\u001b[0;34m\u001b[0m\u001b[0;34m\u001b[0m\u001b[0m\n\u001b[0;32m--> 311\u001b[0;31m         \u001b[0mIterator\u001b[0m \u001b[0;34m=\u001b[0m \u001b[0miter\u001b[0m\u001b[0;34m(\u001b[0m\u001b[0mself\u001b[0m\u001b[0;34m)\u001b[0m\u001b[0;34m\u001b[0m\u001b[0;34m\u001b[0m\u001b[0m\n\u001b[0m\u001b[1;32m    312\u001b[0m \u001b[0;34m\u001b[0m\u001b[0m\n\u001b[1;32m    313\u001b[0m         \u001b[0;32mfor\u001b[0m \u001b[0mi\u001b[0m \u001b[0;32min\u001b[0m \u001b[0mrange\u001b[0m\u001b[0;34m(\u001b[0m\u001b[0;36m0\u001b[0m\u001b[0;34m,\u001b[0m \u001b[0mlen\u001b[0m\u001b[0;34m(\u001b[0m\u001b[0mself\u001b[0m\u001b[0;34m)\u001b[0m\u001b[0;34m)\u001b[0m\u001b[0;34m:\u001b[0m\u001b[0;34m\u001b[0m\u001b[0;34m\u001b[0m\u001b[0m\n",
            "\u001b[0;31mRecursionError\u001b[0m: maximum recursion depth exceeded while calling a Python object"
          ]
        }
      ]
    },
    {
      "metadata": {
        "state": "normal",
        "trusted": true
      },
      "cell_type": "code",
      "source": "",
      "execution_count": null,
      "outputs": []
    },
    {
      "metadata": {
        "state": "normal",
        "trusted": false
      },
      "cell_type": "code",
      "source": "",
      "execution_count": null,
      "outputs": []
    }
  ],
  "metadata": {
    "kernelspec": {
      "name": "python3",
      "display_name": "Python 3",
      "language": "python"
    },
    "language_info": {
      "name": "python",
      "version": "3.7.3",
      "mimetype": "text/x-python",
      "codemirror_mode": {
        "name": "ipython",
        "version": 3
      },
      "pygments_lexer": "ipython3",
      "nbconvert_exporter": "python",
      "file_extension": ".py"
    },
    "mimir": {
      "project_id": "91c063e6-2dc8-4313-9f02-0b33fe38016c",
      "last_submission_id": "",
      "data": {}
    },
    "varInspector": {
      "window_display": false,
      "cols": {
        "lenName": 16,
        "lenType": 16,
        "lenVar": 40
      },
      "kernels_config": {
        "python": {
          "library": "var_list.py",
          "delete_cmd_prefix": "del ",
          "delete_cmd_postfix": "",
          "varRefreshCmd": "print(var_dic_list())"
        },
        "r": {
          "library": "var_list.r",
          "delete_cmd_prefix": "rm(",
          "delete_cmd_postfix": ") ",
          "varRefreshCmd": "cat(var_dic_list()) "
        }
      },
      "types_to_exclude": [
        "module",
        "function",
        "builtin_function_or_method",
        "instance",
        "_Feature"
      ]
    }
  },
  "nbformat": 4,
  "nbformat_minor": 2
}