{
  "cells": [
    {
      "metadata": {
        "state": "normal"
      },
      "cell_type": "markdown",
      "source": "# Lab 08: Circular, Array-backed Queue"
    },
    {
      "metadata": {
        "state": "normal"
      },
      "cell_type": "markdown",
      "source": "## Overview\n\nFor this assignment you will implement a circular, array-backed queue data structure.\n\nIn the following class, which you are to complete, the backing array will be created and populated with `None`s in the `__init__` method, and the `head` and `tail` indexes set to sentinel values (you shouldn't need to modify `__init__`). Enqueueing and Dequeueing items will take place at the tail and head, with `tail` and `head` tracking the position of the most recently enqueued item and that of the next item to dequeue, respectively. To simplify testing, your implementation should make sure that when dequeuing an item its slot in the array is reset to `None`, and when the queue is emptied its `head` and `tail` attributes should be set to `-1`.\n\nBecause of the fixed size backing array, the `enqueue` operation is defined to raise a `RuntimeError` when the queue is full — the same exception should be raised when `dequeue` is called on an empty queue.\n\nFinally, the `resize` method will allow the array underlying the queue to be increased in size. It is up to you how to implement this (you can either leave the elements in their current positions, though this may require \"unwrapping\" elements, or you can simply move all elements towards the front of the array). You may assume that `resize` will only be called with a value greater than the current length of the underlying array."
    },
    {
      "metadata": {
        "deletable": false,
        "id": "queue",
        "nbgrader": {
          "grade": false,
          "grade_id": "queue",
          "locked": false,
          "schema_version": 1,
          "solution": true
        },
        "starter_code": "class Queue:\n    def __init__(self, limit=10):\n        self.data = [None] * limit\n        self.head = -1\n        self.tail = -1\n\n    \n\n    def enqueue(self, val):\n        \n        \n    def dequeue(self):\n        \n    \n    def resize(self, newsize):\n        assert(len(self.data) < newsize)\n        \n    \n    def empty(self):\n        \n    \n    def __bool__(self):\n        return not self.empty()\n    \n    def __str__(self):\n        if not(self):\n            return ''\n        return ', '.join(str(x) for x in self)\n    \n    def __repr__(self):\n        return str(self)\n    \n    def __iter__(self):\n        ",
        "state": "graded",
        "trusted": true
      },
      "cell_type": "code",
      "source": "class Queue:\n    def __init__(self, limit=10):\n        self.data = [None] * limit\n        self.head = -1\n        self.tail = -1\n\n    #def __next_slot__(self, int): #call this with._next_slot\n    #    return (int + 1) % len(self)\n        \n    def enqueue(self, val):\n        print(self.data)\n        print(self.head)\n        print(self.tail)\n        if self.head == -1:\n            self.data[0] = val\n            self.head = self.tail = 0\n        else:\n            temp = ((self.tail +1) % len(self.data))\n            if self.data[temp] is None:\n                self.tail = temp\n                self.data[self.tail] = val\n            elif temp == self.head:\n                if self.data[temp] is None:\n                    self.tail = self.head = 0\n                else:\n                    raise RuntimeError\n        print(self.data)   \n            \n            #if temp == self.head:\n            #    raise RuntimeError\n            #else:\n            #    self.tail = temp\n            #    self.data[self.tail] = val\n            \n                \n            #if self.data[self.tail] is None:\n                #raise RuntimeError\n            #    self.data[self.tail] = val\n            #elif self.data[self.tail] == self.data[self.head]:\n            #if self.tail == self.head:\n            #    raise RuntimeError\n                \n            #self.data[self.tail] = val\n            \n            #if self.data.count(None) == 0:\n            #    raise RuntimeError\n            #if self.data.count(None) == 0:\n            #    raise RuntimeError\n            #if self.tail & self.head == None:\n            #    raise RuntimeError\n        \n    def dequeue(self):\n        if self.head == -1:\n            raise RuntimeError\n        else:\n            val = self.data[self.head]\n            self.data[self.head] = None\n            self.head = (self.head + 1) % len(self.data)\n            if self.data[self.head] == None:\n                self.head = -1\n                #yield self.empty\n            return val\n            #if self.head == self.tail:\n                \n    \n    def resize(self, newsize):\n        assert(len(self.data) < newsize)\n        \n        print(self.data)\n        print('boo')\n        \n        #newSlots = [None] * newsize\n        #self.data[self.tail].append(newSlots)\n        a = self.head\n        b = self.tail\n        #a = len(self.data)\n        for i in range(0, newsize):\n            self.data.insert(b + 1, None)\n            self.head = (self.head + 1) % len(self.data)\n            print(self.data)\n        #self.head = a\n        #self.tail = b\n        print(self.head)\n        print(b)\n            \n        print(self.data)\n        #oldList = self.data\n        #newList = [None] * newsize\n        #self.data = oldList + newList\n        #newList.head = -1\n        #newList.tail = -1\n        #for i in (oldList):\n        #    enqueue(self.data, oldList[i])\n            \n        #for i in range(newsize):\n        #    self.data.append\n        #newSlots = newsize - len(self.data) #5\n        #self.data.append([None] * newSlots)\n        \n        \n        \n    \n    def empty(self):\n        return self.head == -1\n    \n    def __bool__(self):\n        return not self.empty()\n    \n    def __str__(self):\n        if not(self):\n            return ''\n        return ', '.join(str(x) for x in self)\n    \n    def __repr__(self):\n        return str(self)\n    \n    def __iter__(self):\n        #for i in self.data:\n        #    return self.data[i]\n        for i in range(len(self.data)):\n            if self.data[self.head] is not None:\n                yield self.data[self.head]\n            self.head = (self.head + 1) % len(self.data)\n        \n           \n        ",
      "execution_count": 131,
      "outputs": []
    },
    {
      "metadata": {
        "deletable": false,
        "editable": false,
        "id": "queue_tests_1",
        "nbgrader": {
          "grade": true,
          "grade_id": "queue_tests_1",
          "locked": true,
          "points": 5,
          "schema_version": 1,
          "solution": false
        },
        "state": "read_only",
        "trusted": true
      },
      "cell_type": "code",
      "source": "# (5 points)\n\nfrom unittest import TestCase\ntc = TestCase()\n\nq = Queue(5)\ntc.assertEqual(q.data, [None] * 5)\n\nfor i in range(5):\n    q.enqueue(i)\n    \nwith tc.assertRaises(RuntimeError):\n    q.enqueue(5)\n\nfor i in range(5):\n    tc.assertEqual(q.dequeue(), i)\n    \ntc.assertTrue(q.empty())",
      "execution_count": 132,
      "outputs": [
        {
          "output_type": "stream",
          "text": "[None, None, None, None, None]\n-1\n-1\n[0, None, None, None, None]\n[0, None, None, None, None]\n0\n0\n[0, 1, None, None, None]\n[0, 1, None, None, None]\n0\n1\n[0, 1, 2, None, None]\n[0, 1, 2, None, None]\n0\n2\n[0, 1, 2, 3, None]\n[0, 1, 2, 3, None]\n0\n3\n[0, 1, 2, 3, 4]\n[0, 1, 2, 3, 4]\n0\n4\n",
          "name": "stdout"
        }
      ]
    },
    {
      "metadata": {
        "deletable": false,
        "editable": false,
        "id": "queue_tests_2",
        "nbgrader": {
          "grade": true,
          "grade_id": "queue_tests_2",
          "locked": true,
          "points": 5,
          "schema_version": 1,
          "solution": false
        },
        "state": "read_only",
        "trusted": true
      },
      "cell_type": "code",
      "source": "# (5 points)\n\nfrom unittest import TestCase\ntc = TestCase()\n\nq = Queue(10)\n\nfor i in range(6):\n    q.enqueue(i)\n    \ntc.assertEqual(q.data.count(None), 4)\n\nfor i in range(5):\n    q.dequeue()\n    \ntc.assertFalse(q.empty())\ntc.assertEqual(q.data.count(None), 9)\ntc.assertEqual(q.head, q.tail)\ntc.assertEqual(q.head, 5)\n\nfor i in range(9):\n    q.enqueue(i)\n\nwith tc.assertRaises(RuntimeError):\n    q.enqueue(10)\n\nfor x, y in zip(q, [5] + list(range(9))):\n    tc.assertEqual(x, y)\n    \ntc.assertEqual(q.dequeue(), 5)\nfor i in range(9):\n    tc.assertEqual(q.dequeue(), i)\n\ntc.assertTrue(q.empty())",
      "execution_count": 133,
      "outputs": [
        {
          "output_type": "stream",
          "text": "[None, None, None, None, None, None, None, None, None, None]\n-1\n-1\n[0, None, None, None, None, None, None, None, None, None]\n[0, None, None, None, None, None, None, None, None, None]\n0\n0\n[0, 1, None, None, None, None, None, None, None, None]\n[0, 1, None, None, None, None, None, None, None, None]\n0\n1\n[0, 1, 2, None, None, None, None, None, None, None]\n[0, 1, 2, None, None, None, None, None, None, None]\n0\n2\n[0, 1, 2, 3, None, None, None, None, None, None]\n[0, 1, 2, 3, None, None, None, None, None, None]\n0\n3\n[0, 1, 2, 3, 4, None, None, None, None, None]\n[0, 1, 2, 3, 4, None, None, None, None, None]\n0\n4\n[0, 1, 2, 3, 4, 5, None, None, None, None]\n[None, None, None, None, None, 5, None, None, None, None]\n5\n5\n[None, None, None, None, None, 5, 0, None, None, None]\n[None, None, None, None, None, 5, 0, None, None, None]\n5\n6\n[None, None, None, None, None, 5, 0, 1, None, None]\n[None, None, None, None, None, 5, 0, 1, None, None]\n5\n7\n[None, None, None, None, None, 5, 0, 1, 2, None]\n[None, None, None, None, None, 5, 0, 1, 2, None]\n5\n8\n[None, None, None, None, None, 5, 0, 1, 2, 3]\n[None, None, None, None, None, 5, 0, 1, 2, 3]\n5\n9\n[4, None, None, None, None, 5, 0, 1, 2, 3]\n[4, None, None, None, None, 5, 0, 1, 2, 3]\n5\n0\n[4, 5, None, None, None, 5, 0, 1, 2, 3]\n[4, 5, None, None, None, 5, 0, 1, 2, 3]\n5\n1\n[4, 5, 6, None, None, 5, 0, 1, 2, 3]\n[4, 5, 6, None, None, 5, 0, 1, 2, 3]\n5\n2\n[4, 5, 6, 7, None, 5, 0, 1, 2, 3]\n[4, 5, 6, 7, None, 5, 0, 1, 2, 3]\n5\n3\n[4, 5, 6, 7, 8, 5, 0, 1, 2, 3]\n[4, 5, 6, 7, 8, 5, 0, 1, 2, 3]\n5\n4\n",
          "name": "stdout"
        }
      ]
    },
    {
      "metadata": {
        "deletable": false,
        "editable": false,
        "id": "queue_tests_3",
        "nbgrader": {
          "grade": true,
          "grade_id": "queue_tests_3",
          "locked": true,
          "points": 5,
          "schema_version": 1,
          "solution": false
        },
        "state": "read_only",
        "trusted": true
      },
      "cell_type": "code",
      "source": "# (5 points)\n\nfrom unittest import TestCase\ntc = TestCase()\n\nq = Queue(5)\nfor i in range(5):\n    q.enqueue(i)\nfor i in range(4):\n    q.dequeue()\nfor i in range(5, 9):\n    q.enqueue(i)\n    \nwith tc.assertRaises(RuntimeError):\n    q.enqueue(10)\n\nq.resize(10)\n\nfor x, y in zip(q, range(4, 9)):\n    tc.assertEqual(x, y)\n    \nfor i in range(9, 14):\n    q.enqueue(i)\n\nfor i in range(4, 14):\n    tc.assertEqual(q.dequeue(), i)\n    \ntc.assertTrue(q.empty())\ntc.assertEqual(q.head, -1)",
      "execution_count": 134,
      "outputs": [
        {
          "output_type": "stream",
          "text": "[None, None, None, None, None]\n-1\n-1\n[0, None, None, None, None]\n[0, None, None, None, None]\n0\n0\n[0, 1, None, None, None]\n[0, 1, None, None, None]\n0\n1\n[0, 1, 2, None, None]\n[0, 1, 2, None, None]\n0\n2\n[0, 1, 2, 3, None]\n[0, 1, 2, 3, None]\n0\n3\n[0, 1, 2, 3, 4]\n[None, None, None, None, 4]\n4\n4\n[5, None, None, None, 4]\n[5, None, None, None, 4]\n4\n0\n[5, 6, None, None, 4]\n[5, 6, None, None, 4]\n4\n1\n[5, 6, 7, None, 4]\n[5, 6, 7, None, 4]\n4\n2\n[5, 6, 7, 8, 4]\n[5, 6, 7, 8, 4]\n4\n3\n[5, 6, 7, 8, 4]\nboo\n[5, 6, 7, 8, None, 4]\n[5, 6, 7, 8, None, None, 4]\n[5, 6, 7, 8, None, None, None, 4]\n[5, 6, 7, 8, None, None, None, None, 4]\n[5, 6, 7, 8, None, None, None, None, None, 4]\n[5, 6, 7, 8, None, None, None, None, None, None, 4]\n[5, 6, 7, 8, None, None, None, None, None, None, None, 4]\n[5, 6, 7, 8, None, None, None, None, None, None, None, None, 4]\n[5, 6, 7, 8, None, None, None, None, None, None, None, None, None, 4]\n[5, 6, 7, 8, None, None, None, None, None, None, None, None, None, None, 4]\n14\n3\n[5, 6, 7, 8, None, None, None, None, None, None, None, None, None, None, 4]\n[5, 6, 7, 8, None, None, None, None, None, None, None, None, None, None, 4]\n14\n3\n[5, 6, 7, 8, 9, None, None, None, None, None, None, None, None, None, 4]\n[5, 6, 7, 8, 9, None, None, None, None, None, None, None, None, None, 4]\n14\n4\n[5, 6, 7, 8, 9, 10, None, None, None, None, None, None, None, None, 4]\n[5, 6, 7, 8, 9, 10, None, None, None, None, None, None, None, None, 4]\n14\n5\n[5, 6, 7, 8, 9, 10, 11, None, None, None, None, None, None, None, 4]\n[5, 6, 7, 8, 9, 10, 11, None, None, None, None, None, None, None, 4]\n14\n6\n[5, 6, 7, 8, 9, 10, 11, 12, None, None, None, None, None, None, 4]\n[5, 6, 7, 8, 9, 10, 11, 12, None, None, None, None, None, None, 4]\n14\n7\n[5, 6, 7, 8, 9, 10, 11, 12, 13, None, None, None, None, None, 4]\n",
          "name": "stdout"
        }
      ]
    },
    {
      "metadata": {
        "state": "normal",
        "trusted": true
      },
      "cell_type": "code",
      "source": "",
      "execution_count": null,
      "outputs": []
    },
    {
      "metadata": {
        "state": "normal",
        "trusted": true
      },
      "cell_type": "code",
      "source": "",
      "execution_count": null,
      "outputs": []
    },
    {
      "metadata": {
        "trusted": false,
        "state": "normal"
      },
      "cell_type": "code",
      "source": "",
      "execution_count": null,
      "outputs": []
    }
  ],
  "metadata": {
    "kernelspec": {
      "name": "python3",
      "display_name": "Python 3",
      "language": "python"
    },
    "language_info": {
      "name": "python",
      "version": "3.7.3",
      "mimetype": "text/x-python",
      "codemirror_mode": {
        "name": "ipython",
        "version": 3
      },
      "pygments_lexer": "ipython3",
      "nbconvert_exporter": "python",
      "file_extension": ".py"
    },
    "mimir": {
      "project_id": "5ebae0e9-88f4-48cf-965c-d55aff8e500c",
      "last_submission_id": "",
      "data": {}
    },
    "varInspector": {
      "window_display": false,
      "cols": {
        "lenName": 16,
        "lenType": 16,
        "lenVar": 40
      },
      "kernels_config": {
        "python": {
          "library": "var_list.py",
          "delete_cmd_prefix": "del ",
          "delete_cmd_postfix": "",
          "varRefreshCmd": "print(var_dic_list())"
        },
        "r": {
          "library": "var_list.r",
          "delete_cmd_prefix": "rm(",
          "delete_cmd_postfix": ") ",
          "varRefreshCmd": "cat(var_dic_list()) "
        }
      },
      "types_to_exclude": [
        "module",
        "function",
        "builtin_function_or_method",
        "instance",
        "_Feature"
      ]
    }
  },
  "nbformat": 4,
  "nbformat_minor": 2
}